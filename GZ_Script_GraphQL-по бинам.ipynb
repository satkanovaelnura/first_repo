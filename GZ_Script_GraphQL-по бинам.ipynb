{
 "cells": [
  {
   "cell_type": "code",
   "execution_count": null,
   "id": "f2f10707",
   "metadata": {},
   "outputs": [],
   "source": [
    "import nbformat\n",
    "from nbconvert.preprocessors import ExecutePreprocessor\n",
    "\n",
    "# Определите путь к целевому ноутбуку\n",
    "target_notebook_path = 'GZ_Script_GraphQL.ipynb'\n",
    "\n",
    "# Загрузите содержимое целевого ноутбука\n",
    "with open(target_notebook_path, 'r', encoding='utf-8') as notebook_file:\n",
    "    target_notebook_content = nbformat.read(notebook_file, as_version=4)\n",
    "\n",
    "# Цикл для изменения параметров\n",
    "for param_value in [\"000440001894\", \"021140001443\"]:\n",
    "    # Измените параметры в коде целевого ноутбука (в этом примере мы заменяем переменную 'param' в ячейке)\n",
    "    for cell in target_notebook_content.cells:\n",
    "        if cell.cell_type == 'code':\n",
    "            cell.source = cell.source.replace('hernya =', f'hernya = \"{param_value}\"')\n",
    "\n",
    "    # Запустите целевой ноутбук\n",
    "    ep = ExecutePreprocessor(timeout=1200, kernel_name='python3')  # Установите нужное имя ядра\n",
    "    ep.preprocess(target_notebook_content, {'metadata': {'path': './'}})\n",
    "    for cell in target_notebook_content.cells:\n",
    "        cell.source = cell.source.replace(f'hernya = \"{param_value}\"', 'hernya = \"\"')  # Удалить значение hernya\n"
   ]
  }
 ],
 "metadata": {
  "kernelspec": {
   "display_name": "Python 3 (ipykernel)",
   "language": "python",
   "name": "python3"
  },
  "language_info": {
   "codemirror_mode": {
    "name": "ipython",
    "version": 3
   },
   "file_extension": ".py",
   "mimetype": "text/x-python",
   "name": "python",
   "nbconvert_exporter": "python",
   "pygments_lexer": "ipython3",
   "version": "3.11.5"
  }
 },
 "nbformat": 4,
 "nbformat_minor": 5
}
